{
  "nbformat": 4,
  "nbformat_minor": 0,
  "metadata": {
    "colab": {
      "provenance": []
    },
    "kernelspec": {
      "name": "python3",
      "display_name": "Python 3"
    },
    "language_info": {
      "name": "python"
    }
  },
  "cells": [
    {
      "cell_type": "code",
      "metadata": {
        "id": "fhl1viAXfKH2"
      },
      "source": [
        "import numpy as np\n",
        "import pandas as pd"
      ],
      "execution_count": null,
      "outputs": []
    },
    {
      "cell_type": "code",
      "metadata": {
        "id": "yYq4R1UGfLGz",
        "colab": {
          "base_uri": "https://localhost:8080/"
        },
        "outputId": "6ea59758-00d3-437c-a395-2b60c985807c"
      },
      "source": [
        "import pandas as pd\n",
        "order_df = pd.read_csv(\"https://storage.googleapis.com/dqlab-dataset/order.csv\")\n",
        "print(order_df.shape)"
      ],
      "execution_count": null,
      "outputs": [
        {
          "output_type": "stream",
          "name": "stdout",
          "text": [
            "(49999, 12)\n"
          ]
        }
      ]
    },
    {
      "cell_type": "code",
      "metadata": {
        "colab": {
          "base_uri": "https://localhost:8080/"
        },
        "id": "zfkpM4RH-Yt-",
        "outputId": "a7b9115c-aef5-4d28-8fd3-7e63aa6c4d89"
      },
      "source": [
        "import pandas as pd\n",
        "order_df = pd.read_csv(\"https://storage.googleapis.com/dqlab-dataset/order.csv\")\n",
        "print(order_df.head(10))"
      ],
      "execution_count": null,
      "outputs": [
        {
          "output_type": "stream",
          "name": "stdout",
          "text": [
            "                           order_id  ...  product_weight_gram\n",
            "0  2e7a8482f6fb09756ca50c10d7bfc047  ...               1800.0\n",
            "1  2e7a8482f6fb09756ca50c10d7bfc047  ...               1400.0\n",
            "2  e5fa5a7210941f7d56d0208e4e071d35  ...                700.0\n",
            "3  3b697a20d9e427646d92567910af6d57  ...                300.0\n",
            "4  71303d7e93b399f5bcd537d124c0bcfa  ...                500.0\n",
            "5  be5bc2f0da14d8071e2d45451ad119d9  ...                400.0\n",
            "6  0a0837a5eee9e7a9ce2b1fa831944d27  ...               3100.0\n",
            "7  1ff217aa612f6cd7c4255c9bfe931c8b  ...                200.0\n",
            "8  22613579f7d11cc59c4347526fc3c79e  ...                600.0\n",
            "9  356b492aba2d1a7da886e54e0b6212b7  ...                610.0\n",
            "\n",
            "[10 rows x 12 columns]\n"
          ]
        }
      ]
    },
    {
      "cell_type": "code",
      "metadata": {
        "colab": {
          "base_uri": "https://localhost:8080/"
        },
        "id": "wwts7p3zCgq7",
        "outputId": "acc363e2-f8f7-462b-c32e-aaef24c3791c"
      },
      "source": [
        "import pandas as pd\n",
        "order_df = pd.read_csv(\"https://storage.googleapis.com/dqlab-dataset/order.csv\")\n",
        "# Quick summary  dari segi kuantitas, harga, freight value, dan weight\n",
        "print(order_df.describe())\n",
        "# Median dari total pembelian konsumen per transaksi kolom price\n",
        "print(order_df.loc[:, \"price\"].median())"
      ],
      "execution_count": null,
      "outputs": [
        {
          "output_type": "stream",
          "name": "stdout",
          "text": [
            "           quantity         price  freight_value  product_weight_gram\n",
            "count  49999.000000  4.999900e+04   49999.000000         49980.000000\n",
            "mean       1.197484  2.607784e+06  104521.390428          2201.830892\n",
            "std        0.722262  1.388312e+06   55179.844962          3929.896875\n",
            "min        1.000000  2.000000e+05    9000.000000            50.000000\n",
            "25%        1.000000  1.410500e+06   57000.000000           300.000000\n",
            "50%        1.000000  2.610000e+06  104000.000000           800.000000\n",
            "75%        1.000000  3.810000e+06  152000.000000          1850.000000\n",
            "max       21.000000  5.000000e+06  200000.000000         40425.000000\n",
            "2610000.0\n"
          ]
        }
      ]
    },
    {
      "cell_type": "code",
      "metadata": {
        "id": "5MHiUvP3MNV1",
        "colab": {
          "base_uri": "https://localhost:8080/",
          "height": 54
        },
        "outputId": "0b6b6429-9c75-48c6-9927-9a99309fb274"
      },
      "source": [
        "import pandas as pd\n",
        "import matplotlib.pyplot as plt\n",
        "order_df = pd.read_csv(\"https://storage.googleapis.com/dqlab-dataset/order.csv\")\n",
        "# plot histogram kolom: price\n",
        "order_df[[\"price\"]].hist(figsize=(4, 5), bins=10, xlabelsize=8, ylabelsize=8)\n",
        "plt.show()  # Untuk menampilkan histogram plot"
      ],
      "execution_count": null,
      "outputs": [
        {
          "output_type": "display_data",
          "data": {
            "image/png": "[encoded data removed]",
            "text/plain": [
              "<Figure size 288x360 with 1 Axes>"
            ]
          },
          "metadata": {
            "needs_background": "light"
          }
        }
      ]
    },
    {
      "cell_type": "code",
      "metadata": {
        "id": "IYS5kwJ3LJsG",
        "colab": {
          "base_uri": "https://localhost:8080/"
        },
        "outputId": "ee41daff-6d2c-4307-ae40-92bd7dc6eb9c"
      },
      "source": [
        "import pandas as pd\n",
        "order_df = pd.read_csv(\"https://storage.googleapis.com/dqlab-dataset/order.csv\")\n",
        "# Standar variasi kolom product_weight_gram\n",
        "order_df.loc[:, \"product_weight_gram\"].std()\n",
        "# Varians kolom product_weight_gram\n",
        "order_df.loc[:, \"product_weight_gram\"].var()"
      ],
      "execution_count": null,
      "outputs": [
        {
          "output_type": "execute_result",
          "data": {
            "text/plain": [
              "15444089.451064402"
            ]
          },
          "metadata": {},
          "execution_count": 1
        }
      ]
    },
    {
      "cell_type": "code",
      "metadata": {
        "colab": {
          "base_uri": "https://localhost:8080/"
        },
        "id": "l0cwn1cB_q1_",
        "outputId": "81d762de-7416-46aa-d92c-53213e1f5ea3"
      },
      "source": [
        "import pandas as pd\n",
        "order_df = pd.read_csv(\"https://storage.googleapis.com/dqlab-dataset/order.csv\")\n",
        "# Hitung quartile 1\n",
        "Q1 = order_df[[\"product_weight_gram\"]].quantile(0.25)\n",
        "# Hitung quartile 3\n",
        "Q3 = order_df[[\"product_weight_gram\"]].quantile(0.75)\n",
        "# Hitung inter quartile range dan cetak ke console\n",
        "IQR = Q3-Q1\n",
        "print(IQR)"
      ],
      "execution_count": null,
      "outputs": [
        {
          "output_type": "stream",
          "name": "stdout",
          "text": [
            "product_weight_gram    1550.0\n",
            "dtype: float64\n"
          ]
        }
      ]
    },
    {
      "cell_type": "code",
      "metadata": {
        "colab": {
          "base_uri": "https://localhost:8080/"
        },
        "id": "OoUOmL3HCopT",
        "outputId": "f9f2e9bc-b27a-41f5-a583-b3dd5f12e42c"
      },
      "source": [
        "import pandas as pd\n",
        "order_df = pd.read_csv(\"https://storage.googleapis.com/dqlab-dataset/order.csv\")\n",
        "# Ganti nama kolom freight_value menjadi shipping_cost\n",
        "order_df.rename(columns={\"freight_value\": \"shipping_cost\"}, inplace=True)\n",
        "print(order_df)"
      ],
      "execution_count": null,
      "outputs": [
        {
          "output_type": "stream",
          "name": "stdout",
          "text": [
            "                               order_id  ...  product_weight_gram\n",
            "0      2e7a8482f6fb09756ca50c10d7bfc047  ...               1800.0\n",
            "1      2e7a8482f6fb09756ca50c10d7bfc047  ...               1400.0\n",
            "2      e5fa5a7210941f7d56d0208e4e071d35  ...                700.0\n",
            "3      3b697a20d9e427646d92567910af6d57  ...                300.0\n",
            "4      71303d7e93b399f5bcd537d124c0bcfa  ...                500.0\n",
            "...                                 ...  ...                  ...\n",
            "49994  ec88157ad03aa203c3fdfe7bace5ab6b  ...               2425.0\n",
            "49995  ed60085e92e2aa3debf49159deb34da7  ...               2350.0\n",
            "49996  ed98c37d860890f940e2acd83629fdd1  ...               2600.0\n",
            "49997  ed98c37d860890f940e2acd83629fdd1  ...               2600.0\n",
            "49998  ede4ebbb6e36cbd377eabcc7f5229575  ...               1450.0\n",
            "\n",
            "[49999 rows x 12 columns]\n"
          ]
        }
      ]
    },
    {
      "cell_type": "code",
      "metadata": {
        "colab": {
          "base_uri": "https://localhost:8080/"
        },
        "id": "fxhSaqUdDqc9",
        "outputId": "09043a22-f1ae-403d-edb7-745e8b9aa87e"
      },
      "source": [
        "import pandas as pd\n",
        "order_df = pd.read_csv(\"https://storage.googleapis.com/dqlab-dataset/order.csv\")\n",
        "# Hitung rata rata dari price per payment_type\n",
        "rata_rata = order_df[\"price\"].groupby(order_df[\"payment_type\"]).mean()\n",
        "print(rata_rata)"
      ],
      "execution_count": null,
      "outputs": [
        {
          "output_type": "stream",
          "name": "stdout",
          "text": [
            "payment_type\n",
            "credit card        2.600706e+06\n",
            "debit card         2.611974e+06\n",
            "e-wallet           2.598562e+06\n",
            "virtual account    2.619786e+06\n",
            "Name: price, dtype: float64\n"
          ]
        }
      ]
    },
    {
      "cell_type": "code",
      "metadata": {
        "colab": {
          "base_uri": "https://localhost:8080/",
          "height": 214
        },
        "id": "oIEuuIw0GFuo",
        "outputId": "c729b791-b769-49c0-cb47-850d4bc45475"
      },
      "source": [
        "import pandas as pd\n",
        "order_df = pd.read_csv(\"https://storage.googleapis.com/dqlab-dataset/order.csv\")\n",
        "# Hitung harga maksimum pembelian customer\n",
        "sort_harga = order_df.sort_values(by=\"pembelian customer\", ascending=FALSE)\n",
        "print(sort_harga)"
      ],
      "execution_count": null,
      "outputs": [
        {
          "output_type": "error",
          "ename": "NameError",
          "evalue": "ignored",
          "traceback": [
            "\u001b[0;31m---------------------------------------------------------------------------\u001b[0m",
            "\u001b[0;31mNameError\u001b[0m                                 Traceback (most recent call last)",
            "\u001b[0;32m<ipython-input-5-82e224807394>\u001b[0m in \u001b[0;36m<module>\u001b[0;34m()\u001b[0m\n\u001b[1;32m      2\u001b[0m \u001b[0morder_df\u001b[0m \u001b[0;34m=\u001b[0m \u001b[0mpd\u001b[0m\u001b[0;34m.\u001b[0m\u001b[0mread_csv\u001b[0m\u001b[0;34m(\u001b[0m\u001b[0;34m\"https://storage.googleapis.com/dqlab-dataset/order.csv\"\u001b[0m\u001b[0;34m)\u001b[0m\u001b[0;34m\u001b[0m\u001b[0;34m\u001b[0m\u001b[0m\n\u001b[1;32m      3\u001b[0m \u001b[0;31m# Hitung harga maksimum pembelian customer\u001b[0m\u001b[0;34m\u001b[0m\u001b[0;34m\u001b[0m\u001b[0;34m\u001b[0m\u001b[0m\n\u001b[0;32m----> 4\u001b[0;31m \u001b[0msort_harga\u001b[0m \u001b[0;34m=\u001b[0m \u001b[0morder_df\u001b[0m\u001b[0;34m.\u001b[0m\u001b[0msort_values\u001b[0m\u001b[0;34m(\u001b[0m\u001b[0mby\u001b[0m\u001b[0;34m=\u001b[0m\u001b[0;34m\"pembelian customer\"\u001b[0m\u001b[0;34m,\u001b[0m \u001b[0mascending\u001b[0m\u001b[0;34m=\u001b[0m\u001b[0mFALSE\u001b[0m\u001b[0;34m)\u001b[0m\u001b[0;34m\u001b[0m\u001b[0;34m\u001b[0m\u001b[0m\n\u001b[0m\u001b[1;32m      5\u001b[0m \u001b[0mprint\u001b[0m\u001b[0;34m(\u001b[0m\u001b[0msort_harga\u001b[0m\u001b[0;34m)\u001b[0m\u001b[0;34m\u001b[0m\u001b[0;34m\u001b[0m\u001b[0m\n",
            "\u001b[0;31mNameError\u001b[0m: name 'FALSE' is not defined"
          ]
        }
      ]
    },
    {
      "cell_type": "code",
      "metadata": {
        "id": "205Fm0-bRW4b"
      },
      "source": [],
      "execution_count": null,
      "outputs": []
    }
  ]
}